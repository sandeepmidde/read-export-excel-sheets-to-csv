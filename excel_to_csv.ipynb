{
 "cells": [
  {
   "cell_type": "code",
   "execution_count": 1,
   "metadata": {},
   "outputs": [],
   "source": [
    "import pandas as pd"
   ]
  },
  {
   "cell_type": "code",
   "execution_count": 2,
   "metadata": {},
   "outputs": [],
   "source": [
    "import pandas as pd\n",
    "\n",
    "# Reading the sheet names in an excel file.\n",
    "xls = pd.ExcelFile('curr.xlsx')\n",
    "sheets = xls.sheet_names"
   ]
  },
  {
   "cell_type": "code",
   "execution_count": 3,
   "metadata": {},
   "outputs": [
    {
     "name": "stdout",
     "output_type": "stream",
     "text": [
      "  currency    country  exchange\n",
      "0      usd      india       100\n",
      "1      usd  australia        50\n",
      "2      usd     arabia       200\n",
      "3      usd       gypt       400\n",
      "4      inr        usa       100\n",
      "5      inr  australia        50\n",
      "6      inr     arabia       200\n",
      "7      inr       gypt       400\n"
     ]
    }
   ],
   "source": [
    "# Create a blank dataframe\n",
    "final = pd.DataFrame()\n",
    "\n",
    "# Read the excelfile \n",
    "Exls = pd.ExcelFile('curr.xlsx')\n",
    "\n",
    "# Iterate throu the sheets and read data into a dataframe\n",
    "for i in sheets:\n",
    "    temp_df = pd.read_excel(Exls, i, header=0)\n",
    "    temp_df[\"currency\"] = i #adding the sheet name as a column\n",
    "    \n",
    "#     rearranging the sheet to make the sheetname the 1st column\n",
    "    cols = temp_df.columns.tolist()\n",
    "    cols = cols[-1:] + cols[:-1]\n",
    "    temp_df = temp_df[cols]\n",
    "    \n",
    "#     concatenate to the final frame\n",
    "    frames = [final,temp_df]\n",
    "    final = pd.concat(frames)\n",
    "    \n",
    "# Reset index\n",
    "final = final.reset_index(drop=True) \n",
    "print(final)"
   ]
  },
  {
   "cell_type": "code",
   "execution_count": 4,
   "metadata": {},
   "outputs": [],
   "source": [
    "final.to_csv('Output.csv', index=False)"
   ]
  },
  {
   "cell_type": "code",
   "execution_count": null,
   "metadata": {},
   "outputs": [],
   "source": []
  }
 ],
 "metadata": {
  "kernelspec": {
   "display_name": "Python 3",
   "language": "python",
   "name": "python3"
  },
  "language_info": {
   "codemirror_mode": {
    "name": "ipython",
    "version": 3
   },
   "file_extension": ".py",
   "mimetype": "text/x-python",
   "name": "python",
   "nbconvert_exporter": "python",
   "pygments_lexer": "ipython3",
   "version": "3.7.4"
  }
 },
 "nbformat": 4,
 "nbformat_minor": 4
}
